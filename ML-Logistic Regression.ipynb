{
 "cells": [
  {
   "cell_type": "code",
   "execution_count": 3,
   "id": "ff7de3c5",
   "metadata": {},
   "outputs": [],
   "source": [
    "# Problem Statement \n",
    "# we have a logistic regression object that is ready to check whether a tumor us cancerous based on the tumor size"
   ]
  },
  {
   "cell_type": "code",
   "execution_count": 4,
   "id": "df867187",
   "metadata": {},
   "outputs": [
    {
     "name": "stdout",
     "output_type": "stream",
     "text": [
      "[1]\n"
     ]
    }
   ],
   "source": [
    "import numpy\n",
    "from sklearn import linear_model\n",
    "\n",
    "# reshaped for logistic function\n",
    "X = numpy.array([3.78, 2.44, 2.09, 0.17, 1.45, 1.62, 4.87, 4.96]).reshape(-1,1)\n",
    "y = numpy.array([0,0,0,0,1,1,1,1])\n",
    "\n",
    "logr = linear_model.LogisticRegression()\n",
    "logr.fit(X,y)\n",
    "\n",
    "# predict if tumor is cancerous where the size is 3.46mm\n",
    "predicted = logr.predict(numpy.array([3.46]).reshape(-1,1))\n",
    "print(predicted)"
   ]
  },
  {
   "cell_type": "code",
   "execution_count": 5,
   "id": "13b279d2",
   "metadata": {},
   "outputs": [],
   "source": [
    "# result shows that we have predicted that a tumor with a size of 3.46mm will be cancerous"
   ]
  },
  {
   "cell_type": "code",
   "execution_count": 6,
   "id": "2f41b29c",
   "metadata": {},
   "outputs": [
    {
     "name": "stdout",
     "output_type": "stream",
     "text": [
      "[[1.45664667]]\n"
     ]
    }
   ],
   "source": [
    "import numpy\n",
    "from sklearn import linear_model\n",
    "\n",
    "# reshaped for logistic function\n",
    "X = numpy.array([3.78, 2.44, 2.09, 0.17, 1.45, 1.62, 4.87, 4.96]).reshape(-1,1)\n",
    "y = numpy.array([0,0,0,0,1,1,1,1])\n",
    "\n",
    "logr = linear_model.LogisticRegression()\n",
    "logr.fit(X,y)\n",
    "\n",
    "log_odds = logr.coef_\n",
    "odds = numpy.exp(log_odds)\n",
    "\n",
    "print(odds)"
   ]
  },
  {
   "cell_type": "code",
   "execution_count": 7,
   "id": "ac6c9e19",
   "metadata": {},
   "outputs": [],
   "source": [
    "# This tells us that as the size of a tumor increases \n",
    "# by 1mm the odds of it being a tumor increases by 1.4x."
   ]
  },
  {
   "cell_type": "code",
   "execution_count": 8,
   "id": "55d4dd8f",
   "metadata": {},
   "outputs": [
    {
     "name": "stdout",
     "output_type": "stream",
     "text": [
      "[[0.60336346]\n",
      " [0.47888153]\n",
      " [0.44616645]\n",
      " [0.28123272]\n",
      " [0.38772154]\n",
      " [0.40300579]\n",
      " [0.69624682]\n",
      " [0.70335823]]\n"
     ]
    }
   ],
   "source": [
    "# Let us now use the function with what we have learned to find out the probability that each tumor is cancerous\n",
    "import numpy\n",
    "from sklearn import linear_model\n",
    "\n",
    "# reshaped for logistic function\n",
    "X = numpy.array([3.78, 2.44, 2.09, 0.17, 1.45, 1.62, 4.87, 4.96]).reshape(-1,1)\n",
    "y = numpy.array([0,0,0,0,1,1,1,1])\n",
    "\n",
    "logr = linear_model.LogisticRegression()\n",
    "logr.fit(X,y)\n",
    "\n",
    "def logit2prob(logr, X):\n",
    "    log_odds = logr.coef_ * X + logr.intercept_\n",
    "    odds = numpy.exp(log_odds)\n",
    "    probability = odds / (1+odds)\n",
    "    return(probability)\n",
    "\n",
    "print(logit2prob(logr, X))"
   ]
  },
  {
   "cell_type": "code",
   "execution_count": null,
   "id": "dacedac6",
   "metadata": {},
   "outputs": [],
   "source": [
    "# results\n",
    "# 3.78 0.60 the probability that a tumor with the size 3.78cm is cancerous is 60%\n",
    "# 2.44 0.48 the probability that a tumor with the size 2.44cm is cancerous is 48%\n",
    "# 2.09 0.45 the probability that a tumor with the size 2.09cm is cancerous is 45%"
   ]
  }
 ],
 "metadata": {
  "kernelspec": {
   "display_name": "Python 3 (ipykernel)",
   "language": "python",
   "name": "python3"
  },
  "language_info": {
   "codemirror_mode": {
    "name": "ipython",
    "version": 3
   },
   "file_extension": ".py",
   "mimetype": "text/x-python",
   "name": "python",
   "nbconvert_exporter": "python",
   "pygments_lexer": "ipython3",
   "version": "3.9.7"
  }
 },
 "nbformat": 4,
 "nbformat_minor": 5
}
