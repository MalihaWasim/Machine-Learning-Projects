{
 "cells": [
  {
   "cell_type": "code",
   "execution_count": 1,
   "id": "602bc655",
   "metadata": {},
   "outputs": [
    {
     "data": {
      "text/plain": [
       "[99, 85, 88, 77, 152, 45, 95, 83, 79, 103]"
      ]
     },
     "execution_count": 1,
     "metadata": {},
     "output_type": "execute_result"
    }
   ],
   "source": [
    "# A data set\n",
    "# An example of an array\n",
    "[99,85,88,77,152,45,95,83,79,103]"
   ]
  },
  {
   "cell_type": "code",
   "execution_count": 2,
   "id": "05ef3065",
   "metadata": {},
   "outputs": [],
   "source": [
    "# Types of Data\n",
    "#numerical, categorical and ordinal"
   ]
  },
  {
   "cell_type": "code",
   "execution_count": 3,
   "id": "8ea288ee",
   "metadata": {},
   "outputs": [],
   "source": [
    "# numerical data (discrete and continous)"
   ]
  },
  {
   "cell_type": "code",
   "execution_count": 4,
   "id": "15ceae77",
   "metadata": {},
   "outputs": [],
   "source": [
    "# categorical data (yes/no values, color values)"
   ]
  },
  {
   "cell_type": "code",
   "execution_count": 5,
   "id": "2f405296",
   "metadata": {},
   "outputs": [],
   "source": [
    "# ordinal data is like a categorical data but in ordered form"
   ]
  },
  {
   "cell_type": "markdown",
   "id": "e6cc1137",
   "metadata": {},
   "source": [
    "### Mean Median Mode"
   ]
  },
  {
   "cell_type": "code",
   "execution_count": 7,
   "id": "79dbcadb",
   "metadata": {},
   "outputs": [],
   "source": [
    "speed = [99,85,88,77,152,45,95,83,79,103]"
   ]
  },
  {
   "cell_type": "code",
   "execution_count": 11,
   "id": "e3d2cf68",
   "metadata": {},
   "outputs": [
    {
     "name": "stdout",
     "output_type": "stream",
     "text": [
      "90.6\n"
     ]
    }
   ],
   "source": [
    "# Use the Numpy mean() method to take the average speed\n",
    "\n",
    "import numpy\n",
    "\n",
    "speed = [99,85,88,77,152,45,95,83,79,103]\n",
    "\n",
    "x = numpy.mean(speed)\n",
    "\n",
    "print(x)"
   ]
  },
  {
   "cell_type": "code",
   "execution_count": 13,
   "id": "2edeb9c8",
   "metadata": {},
   "outputs": [
    {
     "name": "stdout",
     "output_type": "stream",
     "text": [
      "85.0\n"
     ]
    }
   ],
   "source": [
    "# Use the Numpy median() method to find the middle value (for odd)\n",
    "\n",
    "import numpy\n",
    "speed = [99,85,88,77,152,45,95,83,79]\n",
    "x = numpy.median(speed)\n",
    "print(x)"
   ]
  },
  {
   "cell_type": "code",
   "execution_count": 14,
   "id": "df2322ce",
   "metadata": {},
   "outputs": [
    {
     "name": "stdout",
     "output_type": "stream",
     "text": [
      "86.5\n"
     ]
    }
   ],
   "source": [
    "# Use the Numpy median() method to find the middle value (for even)\n",
    "\n",
    "import numpy\n",
    "speed = [99,85,88,77,152,45,95,83]\n",
    "x = numpy.median(speed)\n",
    "print(x)"
   ]
  },
  {
   "cell_type": "code",
   "execution_count": 18,
   "id": "668821d1",
   "metadata": {},
   "outputs": [
    {
     "name": "stdout",
     "output_type": "stream",
     "text": [
      "ModeResult(mode=array([86]), count=array([3]))\n"
     ]
    }
   ],
   "source": [
    "# for mode, use the Scipy mode() method to get the number that appears the most\n",
    "\n",
    "from scipy import stats\n",
    "speed = [99,86,87,88,111,86,103,87,94,78,77,85,86]\n",
    "x = stats.mode(speed)\n",
    "print(x)"
   ]
  },
  {
   "cell_type": "markdown",
   "id": "1fcbc726",
   "metadata": {},
   "source": [
    "### Standard Deviation"
   ]
  },
  {
   "cell_type": "code",
   "execution_count": 21,
   "id": "e818a641",
   "metadata": {},
   "outputs": [],
   "source": [
    "# we want to check how spread out the values in our data set are.\n",
    "# low S.D means that most of the numbers are close to the mean value\n",
    "# high means thta the values are spread over a wider range"
   ]
  },
  {
   "cell_type": "code",
   "execution_count": 22,
   "id": "77a98bdd",
   "metadata": {},
   "outputs": [],
   "source": [
    "# this time we have registered the speed of cars\n",
    "speed = [86,97,84,85,91]"
   ]
  },
  {
   "cell_type": "code",
   "execution_count": 23,
   "id": "a9c4af7e",
   "metadata": {},
   "outputs": [
    {
     "name": "stdout",
     "output_type": "stream",
     "text": [
      "4.841487374764082\n"
     ]
    }
   ],
   "source": [
    "import numpy\n",
    "speed = [86,97,84,85,91]\n",
    "x = numpy.std(speed)\n",
    "print(x)"
   ]
  },
  {
   "cell_type": "code",
   "execution_count": 24,
   "id": "6de721ef",
   "metadata": {},
   "outputs": [
    {
     "name": "stdout",
     "output_type": "stream",
     "text": [
      "215.8708461608983\n"
     ]
    }
   ],
   "source": [
    "import numpy\n",
    "price = [500,899,1000]\n",
    "x = numpy.std(price)\n",
    "print(x)"
   ]
  },
  {
   "cell_type": "code",
   "execution_count": 25,
   "id": "4c28cfd8",
   "metadata": {},
   "outputs": [
    {
     "name": "stdout",
     "output_type": "stream",
     "text": [
      "23.44\n"
     ]
    }
   ],
   "source": [
    "# variance means taking the sq root of standard deviation\n",
    "import numpy\n",
    "speed = [86,97,84,85,91]\n",
    "x = numpy.var(speed)\n",
    "print(x)"
   ]
  },
  {
   "cell_type": "markdown",
   "id": "f55cca8c",
   "metadata": {},
   "source": [
    "### Percentiles"
   ]
  },
  {
   "cell_type": "code",
   "execution_count": 31,
   "id": "a7d6ab27",
   "metadata": {},
   "outputs": [
    {
     "name": "stdout",
     "output_type": "stream",
     "text": [
      "75.0\n"
     ]
    }
   ],
   "source": [
    "# numpy percentile() method to find the percentiles\n",
    "# lets say how many senior citizens are living in our street\n",
    "# what is the 75. percentile?\n",
    "import numpy\n",
    "ages = [23,78,45,90,56,75,56,3,28,60,35,86,50]\n",
    "x = numpy.percentile(ages, 75)\n",
    "print(x)\n",
    "# ans is 75, meaning that 75% of the people are senior citizens who live in the street"
   ]
  },
  {
   "cell_type": "code",
   "execution_count": 36,
   "id": "6b2049b6",
   "metadata": {},
   "outputs": [
    {
     "name": "stdout",
     "output_type": "stream",
     "text": [
      "48.7\n"
     ]
    }
   ],
   "source": [
    "# what is the age that 90% of the people are younger than?\n",
    "import numpy\n",
    "ages = [5,32,45,49,51,17,15,12,39,6,25,36,13,48]\n",
    "x = numpy.percentile(ages, 90)\n",
    "print(x)"
   ]
  },
  {
   "cell_type": "markdown",
   "id": "5458a9b5",
   "metadata": {},
   "source": [
    "## Data Distribution \n",
    "### used to create big data randomly"
   ]
  },
  {
   "cell_type": "code",
   "execution_count": 38,
   "id": "84317524",
   "metadata": {},
   "outputs": [
    {
     "name": "stdout",
     "output_type": "stream",
     "text": [
      "[0.87061634 3.56465517 4.9520694  4.11638479 2.0996992  1.68531019\n",
      " 0.38839529 0.03701369 1.80836371 1.08776873 4.09363604 1.91344064\n",
      " 3.71986973 1.69507604 4.59869931 2.22078305 0.54573861 2.98499013\n",
      " 4.42740508 3.59996966 1.86012758 1.77792778 3.45072344 4.92377956\n",
      " 0.93695125 0.51712623 3.39421924 4.8244918  4.90647913 2.75699315\n",
      " 2.15403805 4.3398581  1.98001834 0.01597855 2.00651171 2.21399593\n",
      " 1.51946791 3.49917432 4.12058531 4.8965524  0.53110947 3.84851057\n",
      " 0.41474371 3.6766401  4.75511859 1.07397416 4.42979853 2.15417428\n",
      " 3.32417503 4.00794852 0.61289419 0.38768462 3.64787104 2.96108665\n",
      " 3.621867   2.40989312 0.1280567  4.07430609 2.36703499 4.01303398\n",
      " 0.62958866 1.43512994 4.54153191 0.48314381 0.98145696 3.17248724\n",
      " 1.84316127 1.49522102 0.20111034 4.30270483 3.30384007 0.3663397\n",
      " 2.73447998 3.77547245 1.36966894 4.33056601 2.92512938 1.8929812\n",
      " 0.37653897 0.23415973 1.74712013 1.88688182 0.05216145 1.63596015\n",
      " 2.36269389 4.05286982 3.50118462 3.79841339 1.28660445 0.11110365\n",
      " 1.72874187 3.17713781 1.56176074 0.21291951 4.92412569 3.59906889\n",
      " 4.59479705 1.01296044 1.12727117 4.39783024 2.54304678 3.45098666\n",
      " 3.40184306 2.71470953 1.94681226 1.3086557  3.44721877 2.76408075\n",
      " 1.46991182 0.60455873 4.46213125 2.12622935 2.96027414 4.60912178\n",
      " 4.43667019 1.85762765 0.18661166 3.19702655 0.51126813 1.14766301\n",
      " 2.58290953 4.8969265  2.60160742 0.33544871 1.20400221 2.59111979\n",
      " 1.14010801 0.74272631 0.44357915 4.09812966 4.23542617 1.77891909\n",
      " 0.28324465 1.29481402 2.40141614 4.21622297 3.24582467 3.76444982\n",
      " 3.76811233 2.71054536 2.63960789 4.03486124 2.57816227 2.11307167\n",
      " 1.3052971  4.67298002 1.86957106 2.74481606 4.59396378 0.46351819\n",
      " 2.21577334 1.72407579 4.66015614 3.54400003 1.02635424 4.25735681\n",
      " 3.26296274 4.67123579 2.51337904 4.36571485 3.81813307 3.7742394\n",
      " 4.87978898 4.22500156 0.36897866 3.69991576 2.37843462 3.77048779\n",
      " 1.08096972 0.46453788 4.06316341 2.65703769 4.64401122 4.1322281\n",
      " 4.67087479 1.2517625  2.08218599 2.27874034 3.69646863 1.51232659\n",
      " 4.36540818 1.72723809 1.21717717 1.17268414 1.77999658 4.94849775\n",
      " 0.80648888 0.95624143 4.5529879  3.92899446 4.56880714 4.3846776\n",
      " 1.81386175 0.24458918 3.44756984 3.99672499 2.24763027 2.76378057\n",
      " 4.15265877 1.22811978 4.31552652 3.03685005 1.59696119 1.84816802\n",
      " 2.13687474 4.98387171 0.39690754 4.76452671 4.74121078 0.31132487\n",
      " 1.05228329 2.30440852 2.95780063 0.33616794 0.6247095  1.15754464\n",
      " 4.27330054 0.22528899 0.80990782 2.32962113 2.34995165 3.67317125\n",
      " 3.77405762 0.18278627 3.42603881 4.05872066 1.82923683 3.92967672\n",
      " 0.61119916 2.89575735 3.52406692 1.31402022 2.24915304 1.48658226\n",
      " 3.60487757 0.51562647 1.44055402 0.07455161 1.66360084 0.12404618\n",
      " 2.91632667 3.76266902 0.12279594 3.29038461 2.92453031 0.68563497\n",
      " 2.02246841 1.49093363 2.43306978 2.61894159 3.11030109 4.53619251\n",
      " 1.63005967 0.22296979 3.20186541]\n"
     ]
    }
   ],
   "source": [
    "# create an array containing 255 random floats between 0 and 5\n",
    "# creating a random data set of 255 random floats between 0 and 5\n",
    "import numpy\n",
    "x = numpy.random.uniform(0.0, 5.0, 255)\n",
    "print(x)"
   ]
  },
  {
   "cell_type": "markdown",
   "id": "189c8991",
   "metadata": {},
   "source": [
    "### Histogram"
   ]
  },
  {
   "cell_type": "code",
   "execution_count": 42,
   "id": "50f58a87",
   "metadata": {},
   "outputs": [
    {
     "data": {
      "image/png": "[encoded data removed]",
      "text/plain": [
       "<Figure size 432x288 with 1 Axes>"
      ]
     },
     "metadata": {
      "needs_background": "light"
     },
     "output_type": "display_data"
    }
   ],
   "source": [
    "# matplot lib is used \n",
    "# draw a histogram\n",
    "\n",
    "import numpy\n",
    "import matplotlib.pyplot as plt\n",
    "\n",
    "x = numpy.random.uniform(0.0, 5.0, 255)\n",
    "\n",
    "plt.hist(x, 5)\n",
    "plt.show()"
   ]
  },
  {
   "cell_type": "markdown",
   "id": "8fcd29d7",
   "metadata": {},
   "source": [
    "### Big Data Distributions"
   ]
  },
  {
   "cell_type": "code",
   "execution_count": 45,
   "id": "f1b8077c",
   "metadata": {},
   "outputs": [
    {
     "data": {
      "image/png": "[encoded data removed]",
      "text/plain": [
       "<Figure size 432x288 with 1 Axes>"
      ]
     },
     "metadata": {
      "needs_background": "light"
     },
     "output_type": "display_data"
    }
   ],
   "source": [
    "# create an array with 1000000 random numbers, and display them using a histogram with 1000 bars\n",
    "import numpy \n",
    "import matplotlib.pyplot as plt\n",
    "\n",
    "x = numpy.random.uniform(0.0, 5.0, 1000000)\n",
    "plt.hist(x, 1000)\n",
    "plt.show()"
   ]
  },
  {
   "cell_type": "code",
   "execution_count": null,
   "id": "a3fb9e36",
   "metadata": {},
   "outputs": [],
   "source": []
  }
 ],
 "metadata": {
  "kernelspec": {
   "display_name": "Python 3 (ipykernel)",
   "language": "python",
   "name": "python3"
  },
  "language_info": {
   "codemirror_mode": {
    "name": "ipython",
    "version": 3
   },
   "file_extension": ".py",
   "mimetype": "text/x-python",
   "name": "python",
   "nbconvert_exporter": "python",
   "pygments_lexer": "ipython3",
   "version": "3.9.7"
  }
 },
 "nbformat": 4,
 "nbformat_minor": 5
}
