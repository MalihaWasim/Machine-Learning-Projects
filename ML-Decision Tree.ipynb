{
 "cells": [
  {
   "cell_type": "code",
   "execution_count": 1,
   "id": "201fb15d",
   "metadata": {},
   "outputs": [],
   "source": [
    "# Decision tree is a flow chart which can help in making decisions from previous experiences\n",
    "# In the below e.g a person will try to decide if he/she should go to a musical night or not"
   ]
  },
  {
   "cell_type": "code",
   "execution_count": 3,
   "id": "9c219e51",
   "metadata": {},
   "outputs": [
    {
     "name": "stdout",
     "output_type": "stream",
     "text": [
      "    Age  Experience  Rank Nationality   Go\n",
      "0    36          10     9          UK   NO\n",
      "1    42          12     4         USA   NO\n",
      "2    23           4     6           N   NO\n",
      "3    52           4     4         USA   NO\n",
      "4    43          21     8         USA  YES\n",
      "5    44          14     5          UK   NO\n",
      "6    66           3     7           N  YES\n",
      "7    35          14     9          UK  YES\n",
      "8    52          13     7           N  YES\n",
      "9    35           5     9           N  YES\n",
      "10   24           3     5         USA   NO\n",
      "11   18           3     7          UK  YES\n",
      "12   45           9     9          UK  YES\n"
     ]
    }
   ],
   "source": [
    "# step 1- read the data set with pandas\n",
    "import pandas \n",
    "df = pandas.read_csv(\"shows.csv\")\n",
    "print(df)"
   ]
  },
  {
   "cell_type": "code",
   "execution_count": 4,
   "id": "5c40e687",
   "metadata": {},
   "outputs": [],
   "source": [
    "# to make a decision tree, all data has to be numerical\n",
    "# we have to convert non numerical columns \"Nationality and \"Go\" into numerical one\n",
    "# Pandas has a map() method that takes a dictionary with info on how to convert the values"
   ]
  },
  {
   "cell_type": "code",
   "execution_count": 5,
   "id": "2b358270",
   "metadata": {},
   "outputs": [
    {
     "name": "stdout",
     "output_type": "stream",
     "text": [
      "    Age  Experience  Rank  Nationality  Go\n",
      "0    36          10     9            0   0\n",
      "1    42          12     4            1   0\n",
      "2    23           4     6            2   0\n",
      "3    52           4     4            1   0\n",
      "4    43          21     8            1   1\n",
      "5    44          14     5            0   0\n",
      "6    66           3     7            2   1\n",
      "7    35          14     9            0   1\n",
      "8    52          13     7            2   1\n",
      "9    35           5     9            2   1\n",
      "10   24           3     5            1   0\n",
      "11   18           3     7            0   1\n",
      "12   45           9     9            0   1\n"
     ]
    }
   ],
   "source": [
    "# Step 2 - Change string values into numerical values\n",
    "d = {'UK': 0, 'USA': 1, 'N':2}\n",
    "df['Nationality'] = df['Nationality'].map(d)\n",
    "d = {'YES': 1, 'NO': 0}\n",
    "df['Go'] = df['Go'].map(d)\n",
    "\n",
    "print(df)"
   ]
  },
  {
   "cell_type": "code",
   "execution_count": 6,
   "id": "0a77e149",
   "metadata": {},
   "outputs": [],
   "source": [
    "# step 3 - separating the feature columns from the target column\n",
    "# the feature columns are the columns that we try to predict from, \n",
    "# the target column is the column with the values we try to predict"
   ]
  },
  {
   "cell_type": "code",
   "execution_count": 7,
   "id": "35e821d9",
   "metadata": {},
   "outputs": [
    {
     "name": "stdout",
     "output_type": "stream",
     "text": [
      "    Age  Experience  Rank  Nationality\n",
      "0    36          10     9            0\n",
      "1    42          12     4            1\n",
      "2    23           4     6            2\n",
      "3    52           4     4            1\n",
      "4    43          21     8            1\n",
      "5    44          14     5            0\n",
      "6    66           3     7            2\n",
      "7    35          14     9            0\n",
      "8    52          13     7            2\n",
      "9    35           5     9            2\n",
      "10   24           3     5            1\n",
      "11   18           3     7            0\n",
      "12   45           9     9            0\n",
      "0     0\n",
      "1     0\n",
      "2     0\n",
      "3     0\n",
      "4     1\n",
      "5     0\n",
      "6     1\n",
      "7     1\n",
      "8     1\n",
      "9     1\n",
      "10    0\n",
      "11    1\n",
      "12    1\n",
      "Name: Go, dtype: int64\n"
     ]
    }
   ],
   "source": [
    "# X is the feature column, y is the target column\n",
    "features = ['Age', 'Experience', 'Rank', 'Nationality']\n",
    "X = df[features]\n",
    "y = df['Go']\n",
    "\n",
    "print(X)\n",
    "print(y)"
   ]
  },
  {
   "cell_type": "code",
   "execution_count": 8,
   "id": "91e60251",
   "metadata": {},
   "outputs": [
    {
     "data": {
      "text/plain": [
       "[Text(0.2857142857142857, 0.9, 'Rank <= 6.5\\ngini = 0.497\\nsamples = 13\\nvalue = [6, 7]'),\n",
       " Text(0.14285714285714285, 0.7, 'gini = 0.0\\nsamples = 5\\nvalue = [5, 0]'),\n",
       " Text(0.42857142857142855, 0.7, 'Rank <= 8.5\\ngini = 0.219\\nsamples = 8\\nvalue = [1, 7]'),\n",
       " Text(0.2857142857142857, 0.5, 'gini = 0.0\\nsamples = 4\\nvalue = [0, 4]'),\n",
       " Text(0.5714285714285714, 0.5, 'Experience <= 9.5\\ngini = 0.375\\nsamples = 4\\nvalue = [1, 3]'),\n",
       " Text(0.42857142857142855, 0.3, 'gini = 0.0\\nsamples = 2\\nvalue = [0, 2]'),\n",
       " Text(0.7142857142857143, 0.3, 'Age <= 35.5\\ngini = 0.5\\nsamples = 2\\nvalue = [1, 1]'),\n",
       " Text(0.5714285714285714, 0.1, 'gini = 0.0\\nsamples = 1\\nvalue = [0, 1]'),\n",
       " Text(0.8571428571428571, 0.1, 'gini = 0.0\\nsamples = 1\\nvalue = [1, 0]')]"
      ]
     },
     "execution_count": 8,
     "metadata": {},
     "output_type": "execute_result"
    },
    {
     "data": {
      "image/png": "[encoded data removed]",
      "text/plain": [
       "<Figure size 432x288 with 1 Axes>"
      ]
     },
     "metadata": {
      "needs_background": "light"
     },
     "output_type": "display_data"
    }
   ],
   "source": [
    "# Step 4 - Creating the actual decision tree, fit it with our details. \n",
    "# Start by importing the modules we need\n",
    "# Create and display a Decision tree\n",
    "\n",
    "import pandas\n",
    "from sklearn import tree\n",
    "from sklearn.tree import DecisionTreeClassifier\n",
    "import matplotlib.pyplot as plt\n",
    "\n",
    "df = pandas.read_csv(\"shows.csv\")\n",
    "\n",
    "d = {'UK': 0, 'USA': 1, 'N': 2}\n",
    "df['Nationality'] = df['Nationality'].map(d)\n",
    "d = {'YES': 1, 'NO': 0}\n",
    "df['Go'] = df['Go'].map(d)\n",
    "\n",
    "features = ['Age', 'Experience', 'Rank', 'Nationality']\n",
    "\n",
    "X = df[features]\n",
    "y = df['Go']\n",
    "\n",
    "dtree = DecisionTreeClassifier()\n",
    "dtree = dtree.fit(X, y)\n",
    "\n",
    "tree.plot_tree(dtree, feature_names = features)"
   ]
  },
  {
   "cell_type": "code",
   "execution_count": 9,
   "id": "32d1f13d",
   "metadata": {},
   "outputs": [
    {
     "name": "stdout",
     "output_type": "stream",
     "text": [
      "[1]\n"
     ]
    },
    {
     "name": "stderr",
     "output_type": "stream",
     "text": [
      "E:\\Anaconda\\lib\\site-packages\\sklearn\\base.py:450: UserWarning: X does not have valid feature names, but DecisionTreeClassifier was fitted with feature names\n",
      "  warnings.warn(\n"
     ]
    }
   ],
   "source": [
    "# we can use decision tree to predict new values\n",
    "# should i go see a show starring a 40 years old American comedian, with 10 years of experience and a comdey ranking of 7?\n",
    "# use predict() method\n",
    "\n",
    "print(dtree.predict([[40, 10, 7, 1]]))"
   ]
  },
  {
   "cell_type": "code",
   "execution_count": 10,
   "id": "3b45b71d",
   "metadata": {},
   "outputs": [
    {
     "name": "stdout",
     "output_type": "stream",
     "text": [
      "[1] means 'GO'\n",
      "[0] means 'NO'\n"
     ]
    }
   ],
   "source": [
    "print(\"[1] means 'GO'\")\n",
    "print(\"[0] means 'NO'\")"
   ]
  },
  {
   "cell_type": "code",
   "execution_count": 11,
   "id": "2d8ef4ba",
   "metadata": {
    "scrolled": true
   },
   "outputs": [
    {
     "name": "stdout",
     "output_type": "stream",
     "text": [
      "[1]\n",
      "[1] means 'GO'\n",
      "[0] means 'NO'\n"
     ]
    },
    {
     "name": "stderr",
     "output_type": "stream",
     "text": [
      "E:\\Anaconda\\lib\\site-packages\\sklearn\\base.py:450: UserWarning: X does not have valid feature names, but DecisionTreeClassifier was fitted with feature names\n",
      "  warnings.warn(\n"
     ]
    }
   ],
   "source": [
    "# what would the answer be if the comedian rak was 8? and experience was 11 years?\n",
    "print(dtree.predict([[40, 11, 8, 1]]))\n",
    "print(\"[1] means 'GO'\")\n",
    "print(\"[0] means 'NO'\")"
   ]
  },
  {
   "cell_type": "code",
   "execution_count": 12,
   "id": "c6ddd33a",
   "metadata": {},
   "outputs": [
    {
     "name": "stdout",
     "output_type": "stream",
     "text": [
      "[0]\n",
      "[1] means 'GO'\n",
      "[0] means 'NO'\n"
     ]
    },
    {
     "name": "stderr",
     "output_type": "stream",
     "text": [
      "E:\\Anaconda\\lib\\site-packages\\sklearn\\base.py:450: UserWarning: X does not have valid feature names, but DecisionTreeClassifier was fitted with feature names\n",
      "  warnings.warn(\n"
     ]
    }
   ],
   "source": [
    "print(dtree.predict([[40, 10, 6, 1]]))\n",
    "print(\"[1] means 'GO'\")\n",
    "print(\"[0] means 'NO'\")"
   ]
  },
  {
   "cell_type": "code",
   "execution_count": null,
   "id": "f152299d",
   "metadata": {},
   "outputs": [],
   "source": [
    "# the results vary because decision tree does not give 100% certain answer, \n",
    "# it is based on the prob of outcome"
   ]
  },
  {
   "cell_type": "markdown",
   "id": "aa1b0c53",
   "metadata": {},
   "source": [
    "### Confusion Matrix"
   ]
  },
  {
   "cell_type": "code",
   "execution_count": 14,
   "id": "6a7350d1",
   "metadata": {},
   "outputs": [],
   "source": [
    "# in order to assess where errors in the model were made we will use a table known as confusion matrix\n",
    "# rows represents the actual classes the outcomes should have been\n",
    "# while the columns represent the predictions we have made.\n",
    "# using this table we can see which predictions are wrong"
   ]
  },
  {
   "cell_type": "code",
   "execution_count": 15,
   "id": "a0eef1ca",
   "metadata": {},
   "outputs": [],
   "source": [
    "# creating a confusion matrix\n",
    "# Confusion matrixes can be created by predictions made from a logistic regression.\n",
    "# first, generate actual and predicted values by utilizing NumPy\n",
    "\n",
    "import numpy"
   ]
  },
  {
   "cell_type": "code",
   "execution_count": 16,
   "id": "2c907226",
   "metadata": {},
   "outputs": [],
   "source": [
    "# generate the numbers for \"actual and predicted\" values\n",
    "actual = numpy.random.binomial(1, 0.9, size = 1000)\n",
    "predicted = numpy.random.binomial(1, 0.9, size = 1000)"
   ]
  },
  {
   "cell_type": "code",
   "execution_count": 17,
   "id": "9b61871b",
   "metadata": {},
   "outputs": [],
   "source": [
    "# In order to create the confusion matrix we need to import metrics from the sklearn module\n",
    "from sklearn import metrics"
   ]
  },
  {
   "cell_type": "code",
   "execution_count": 18,
   "id": "f688ea29",
   "metadata": {},
   "outputs": [],
   "source": [
    "# once metrics is imported we can use the confusion matrix function on our actual and predicted values\n",
    "confusion_matrix = metrics.confusion_matrix(actual, predicted)"
   ]
  },
  {
   "cell_type": "code",
   "execution_count": 19,
   "id": "7781b144",
   "metadata": {},
   "outputs": [],
   "source": [
    "# convert the table into confusion matrix display\n",
    "cm_display = metrics.ConfusionMatrixDisplay(confusion_matrix = confusion_matrix, display_labels = [False, True])"
   ]
  },
  {
   "cell_type": "code",
   "execution_count": 20,
   "id": "1ba9fe6b",
   "metadata": {},
   "outputs": [],
   "source": [
    "import matplotlib.pyplot as plt"
   ]
  },
  {
   "cell_type": "code",
   "execution_count": 21,
   "id": "b8a834fe",
   "metadata": {},
   "outputs": [
    {
     "data": {
      "image/png": "[encoded data removed]",
      "text/plain": [
       "<Figure size 432x288 with 2 Axes>"
      ]
     },
     "metadata": {
      "needs_background": "light"
     },
     "output_type": "display_data"
    }
   ],
   "source": [
    "cm_display.plot()\n",
    "plt.show()"
   ]
  },
  {
   "cell_type": "code",
   "execution_count": null,
   "id": "b8f95dc8",
   "metadata": {},
   "outputs": [],
   "source": [
    "# Accuracy measures how often the model is correct\n",
    "# to calculate = (True positive + True Negative) / Total Predictions"
   ]
  },
  {
   "cell_type": "code",
   "execution_count": 2,
   "id": "a28c1ccc",
   "metadata": {},
   "outputs": [
    {
     "name": "stdout",
     "output_type": "stream",
     "text": [
      "0.816\n"
     ]
    }
   ],
   "source": [
    "import numpy\n",
    "from sklearn import metrics\n",
    "\n",
    "actual = numpy.random.binomial(1,.9,size = 1000)\n",
    "predicted = numpy.random.binomial(1,.9,size = 1000)\n",
    "\n",
    "Accuracy = metrics.accuracy_score(actual, predicted)\n",
    "\n",
    "print(Accuracy)\n"
   ]
  },
  {
   "cell_type": "code",
   "execution_count": 3,
   "id": "f871bc35",
   "metadata": {},
   "outputs": [],
   "source": [
    "# Precision of the positives predicted, what percentage is truly positive?\n",
    "# how to calculate = (True Positive / (True Positive + False Positive))\n",
    "# Precision does not evaluate the correctly predicted negative cases"
   ]
  },
  {
   "cell_type": "code",
   "execution_count": 4,
   "id": "1d40e248",
   "metadata": {},
   "outputs": [
    {
     "name": "stdout",
     "output_type": "stream",
     "text": [
      "0.8923418423973363\n"
     ]
    }
   ],
   "source": [
    "import numpy\n",
    "from sklearn import metrics\n",
    "\n",
    "actual = numpy.random.binomial(1,.9,size = 1000)\n",
    "predicted = numpy.random.binomial(1,.9,size = 1000)\n",
    "\n",
    "Precision = metrics.precision_score(actual, predicted)\n",
    "\n",
    "print(Precision)\n"
   ]
  },
  {
   "cell_type": "code",
   "execution_count": 5,
   "id": "9b9ef854",
   "metadata": {},
   "outputs": [
    {
     "name": "stdout",
     "output_type": "stream",
     "text": [
      "0.8991228070175439\n"
     ]
    }
   ],
   "source": [
    "# sensitivity measures how good the model is at predicting positives\n",
    "# true positive / (True Positive + False Negative)\n",
    "import numpy\n",
    "from sklearn import metrics\n",
    "\n",
    "actual = numpy.random.binomial(1,.9,size = 1000)\n",
    "predicted = numpy.random.binomial(1,.9,size = 1000)\n",
    "\n",
    "Sensitivity_recall = metrics.recall_score(actual, predicted)\n",
    "\n",
    "print(Sensitivity_recall)\n",
    "\n"
   ]
  },
  {
   "cell_type": "code",
   "execution_count": 6,
   "id": "b9dcb465",
   "metadata": {},
   "outputs": [],
   "source": [
    "# Specificity means how well the model is at predicting negative results\n",
    "# to calculate = True Negative / (True Negative + False Positive)"
   ]
  },
  {
   "cell_type": "code",
   "execution_count": 7,
   "id": "998078e4",
   "metadata": {},
   "outputs": [
    {
     "name": "stdout",
     "output_type": "stream",
     "text": [
      "0.07272727272727272\n"
     ]
    }
   ],
   "source": [
    "import numpy\n",
    "from sklearn import metrics\n",
    "\n",
    "actual = numpy.random.binomial(1,.9,size = 1000)\n",
    "predicted = numpy.random.binomial(1,.9,size = 1000)\n",
    "\n",
    "Specificity = metrics.recall_score(actual, predicted, pos_label=0)\n",
    "\n",
    "print(Specificity)"
   ]
  },
  {
   "cell_type": "code",
   "execution_count": 9,
   "id": "3f467adb",
   "metadata": {},
   "outputs": [
    {
     "name": "stdout",
     "output_type": "stream",
     "text": [
      "0.8977777777777778\n"
     ]
    }
   ],
   "source": [
    "# F-score is the harmonic mean of precision and sensitivity\n",
    "# considers both false positive and false negative cases and us good for imbalanced datasets\n",
    "F1_score = metrics.f1_score(actual, predicted)\n",
    "print(F1_score)"
   ]
  },
  {
   "cell_type": "markdown",
   "id": "e0733a0a",
   "metadata": {},
   "source": [
    "### Hierarchical Clustering"
   ]
  },
  {
   "cell_type": "code",
   "execution_count": 12,
   "id": "51579e55",
   "metadata": {},
   "outputs": [
    {
     "data": {
      "image/png": "[encoded data removed]",
      "text/plain": [
       "<Figure size 432x288 with 1 Axes>"
      ]
     },
     "metadata": {
      "needs_background": "light"
     },
     "output_type": "display_data"
    }
   ],
   "source": [
    "# start by visualizing some data points\n",
    "import numpy as np\n",
    "import matplotlib.pyplot as plt\n",
    "\n",
    "x = [4,6,10,5,8,11,15,10,12]\n",
    "y = [ 20,19,23,17,16,25,22,21,21]\n",
    "\n",
    "plt.scatter(x,y)\n",
    "plt.show()"
   ]
  },
  {
   "cell_type": "code",
   "execution_count": 13,
   "id": "46ddae42",
   "metadata": {},
   "outputs": [
    {
     "data": {
      "image/png": "[encoded data removed]",
      "text/plain": [
       "<Figure size 432x288 with 1 Axes>"
      ]
     },
     "metadata": {
      "needs_background": "light"
     },
     "output_type": "display_data"
    }
   ],
   "source": [
    "# now we compute the ward linkage using euclidean distance, and visulaize it using a dendrogram\n",
    "import numpy as np\n",
    "import matplotlib.pyplot as plt\n",
    "from scipy.cluster.hierarchy import dendrogram, linkage\n",
    "x = [4,6,10,5,8,11,15,10,12]\n",
    "y = [ 20,19,23,17,16,25,22,21,21]\n",
    "data = list(zip(x,y))\n",
    "\n",
    "linkage_data = linkage(data, method='ward', metric='euclidean')\n",
    "dendrogram(linkage_data)\n",
    "\n",
    "plt.show()\n"
   ]
  },
  {
   "cell_type": "code",
   "execution_count": null,
   "id": "3cef9ecf",
   "metadata": {},
   "outputs": [],
   "source": []
  }
 ],
 "metadata": {
  "kernelspec": {
   "display_name": "Python 3 (ipykernel)",
   "language": "python",
   "name": "python3"
  },
  "language_info": {
   "codemirror_mode": {
    "name": "ipython",
    "version": 3
   },
   "file_extension": ".py",
   "mimetype": "text/x-python",
   "name": "python",
   "nbconvert_exporter": "python",
   "pygments_lexer": "ipython3",
   "version": "3.9.7"
  }
 },
 "nbformat": 4,
 "nbformat_minor": 5
}
